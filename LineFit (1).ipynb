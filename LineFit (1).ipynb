{
 "cells": [
  {
   "cell_type": "markdown",
   "metadata": {},
   "source": [
    "# Scattering Line Fit"
   ]
  },
  {
   "cell_type": "code",
   "execution_count": 9,
   "metadata": {
    "scrolled": false
   },
   "outputs": [],
   "source": [
    "import numpy as np\n",
    "import pandas as pd\n",
    "from ROOT import TCanvas, TGraphErrors, TF1, gStyle\n",
    "from ROOT import gROOT\n",
    "from array import array\n",
    "import math as math\n"
   ]
  },
  {
   "cell_type": "code",
   "execution_count": 44,
   "metadata": {
    "scrolled": true
   },
   "outputs": [],
   "source": [
    "x=array('f',[0.1736,0.3420,0.5,0.6428,0.766,0.866,0.9397,0.9848,1])\n",
    "ylist=[48,44,59,80,103,85,122,153,82]\n",
    "y=array('f',list(ylist))\n"
   ]
  },
  {
   "cell_type": "code",
   "execution_count": 43,
   "metadata": {},
   "outputs": [
    {
     "data": {
      "text/plain": [
       "[6.928203230275509,\n",
       " 6.6332495807108,\n",
       " 7.681145747868608,\n",
       " 8.94427190999916,\n",
       " 10.14889156509222,\n",
       " 9.219544457292887,\n",
       " 11.045361017187261,\n",
       " 12.36931687685298,\n",
       " 9.055385138137417]"
      ]
     },
     "execution_count": 43,
     "metadata": {},
     "output_type": "execute_result"
    }
   ],
   "source": [
    "ndata =9\n",
    "sy=[math.sqrt(i) for i in ylist]\n",
    "\n",
    "weight = 0\n",
    "ey=array('f',sy)\n",
    "totw = 0 # Total weight\n",
    "xybar = 0; xbar = 0; ybar = 0; x2bar = 0 # weighted averages\n",
    "ex=array('f',[0,0,0,0,0,0,0,0,0])\n",
    "sy"
   ]
  },
  {
   "cell_type": "code",
   "execution_count": 34,
   "metadata": {},
   "outputs": [],
   "source": [
    "for i in range(ndata):\n",
    "    weight = 1./(ey[i]*ey[i])\n",
    "    totw += weight\n",
    "    xybar += (x[i]*y[i]*weight)\n",
    "    xbar += (x[i]*weight)\n",
    "    ybar += (y[i]*weight)\n",
    "    x2bar += (x[i]*x[i]*weight)\n",
    "\n",
    "xybar /= totw\n",
    "xbar /= totw\n",
    "ybar /= totw\n",
    "x2bar /= totw"
   ]
  },
  {
   "cell_type": "code",
   "execution_count": 35,
   "metadata": {},
   "outputs": [
    {
     "name": "stdout",
     "output_type": "stream",
     "text": [
      "slope of fit line = 84.9928419235 +- 9.7823915226\n",
      "intercept of fit line = 23.8245359506 +- 6.46206736229\n"
     ]
    }
   ],
   "source": [
    "sy2bar = ndata / totw # weighted average error squared\n",
    "slope = (xybar - xbar*ybar) / (x2bar - xbar*xbar)\n",
    "itcpt = ybar - slope * xbar\n",
    "slopeerr = np.sqrt( sy2bar / (ndata * (x2bar - xbar*xbar) ) )\n",
    "itcpterr = np.sqrt( x2bar ) * slopeerr\n",
    "\n",
    "print(\"slope of fit line = {} +- {}\".format(slope, slopeerr))\n",
    "print(\"intercept of fit line = {} +- {}\".format(itcpt, itcpterr))\n"
   ]
  },
  {
   "cell_type": "code",
   "execution_count": 36,
   "metadata": {
    "scrolled": false
   },
   "outputs": [
    {
     "name": "stderr",
     "output_type": "stream",
     "text": [
      "Warning in <TCanvas::Constructor>: Deleting canvas with same name: c1\n"
     ]
    },
    {
     "data": {
      "image/png": "[encoded data removed]",
      "text/plain": [
       "<IPython.core.display.Image object>"
      ]
     },
     "metadata": {},
     "output_type": "display_data"
    }
   ],
   "source": [
    "c1 = TCanvas( 'c1', 'A Simple Graph with error bars', 0, 0, 800, 600 )\n",
    "mygraph = TGraphErrors(ndata,x,y,ex,ey)\n",
    "mygraph.Draw(\"Ac\")\n",
    "mygraph.SetTitle(\"Resonance Fit\")\n",
    "c1.Draw()"
   ]
  },
  {
   "cell_type": "code",
   "execution_count": 42,
   "metadata": {},
   "outputs": [
    {
     "name": "stdout",
     "output_type": "stream",
     "text": [
      " FCN=33.3572 FROM MIGRAD    STATUS=CONVERGED      29 CALLS          30 TOTAL\n",
      "                     EDM=2.78146e-23    STRATEGY= 1      ERROR MATRIX ACCURATE \n",
      "  EXT PARAMETER                                   STEP         FIRST   \n",
      "  NO.   NAME      VALUE            ERROR          SIZE      DERIVATIVE \n",
      "   1  p0           8.49928e+01   9.78239e+00   1.24344e-02   1.42859e-12\n",
      "   2  p1           2.38245e+01   6.46207e+00   8.21390e-03   1.29757e-12\n"
     ]
    },
    {
     "data": {
      "image/png": "[encoded data removed]",
      "text/plain": [
       "<IPython.core.display.Image object>"
      ]
     },
     "metadata": {},
     "output_type": "display_data"
    }
   ],
   "source": [
    "fnew = TF1(\"fnew\",\"[0]*x+[1]\",0,2500)\n",
    "fnew.SetRange(0,1.5)\n",
    "fnew.SetParameters(10,10)\n",
    "mygraph.Fit(fnew,\"0\")\n",
    "gStyle.SetOptFit(11111)\n",
    "fnew.Draw(\"same\")\n",
    "c1.Draw()"
   ]
  },
  {
   "cell_type": "code",
   "execution_count": 91,
   "metadata": {},
   "outputs": [
    {
     "data": {
      "text/plain": [
       "<ROOT.MethodProxy at 0x7fdbfc1a9710>"
      ]
     },
     "execution_count": 91,
     "metadata": {},
     "output_type": "execute_result"
    }
   ],
   "source": [
    "fnew.Mean"
   ]
  },
  {
   "cell_type": "code",
   "execution_count": null,
   "metadata": {},
   "outputs": [],
   "source": []
  },
  {
   "cell_type": "code",
   "execution_count": null,
   "metadata": {},
   "outputs": [],
   "source": []
  },
  {
   "cell_type": "code",
   "execution_count": null,
   "metadata": {},
   "outputs": [],
   "source": []
  }
 ],
 "metadata": {
  "kernelspec": {
   "display_name": "Python 2",
   "language": "python",
   "name": "python2"
  },
  "language_info": {
   "codemirror_mode": {
    "name": "ipython",
    "version": 2
   },
   "file_extension": ".py",
   "mimetype": "text/x-python",
   "name": "python",
   "nbconvert_exporter": "python",
   "pygments_lexer": "ipython2",
   "version": "2.7.15+"
  }
 },
 "nbformat": 4,
 "nbformat_minor": 2
}
